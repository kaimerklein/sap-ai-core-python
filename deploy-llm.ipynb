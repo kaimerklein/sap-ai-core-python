{
 "cells": [
  {
   "cell_type": "markdown",
   "metadata": {},
   "source": [
    "# Deploying a Large Language Model in the GenAI Hub of SAP AI Core on BTP\n",
    "\n",
    "## Pre-requisites\n",
    "\n",
    "- Have [python](https://www.python.org/downloads/) installed\n",
    "- Create an instance of SAP AI Core in your BTP sub-account: [documentation](https://help.sap.com/docs/sap-ai-core/sap-ai-core-service-guide/initial-setup?locale=en-US)\n",
    "- Find information about available LLM's in [SAP Note 3437766](https://me.sap.com/notes/3437766) \n",
    "- Optionally, have the [Cloud Foundry CLI installed](https://docs.cloudfoundry.org/cf-cli/install-go-cli.html)\n"
   ]
  },
  {
   "cell_type": "code",
   "execution_count": null,
   "metadata": {},
   "outputs": [],
   "source": [
    "# Install the AI Core SDK with pip\n",
    "\n",
    "%pip install ai_core_sdk"
   ]
  },
  {
   "cell_type": "code",
   "execution_count": null,
   "metadata": {},
   "outputs": [],
   "source": [
    "# In your working directory, log on to BTP with cf logon\n",
    "# Download the credentials of your AICore instance with cf service-key <service-name> <key-name> > key.json\n",
    "# Remove the first line of the key.json file\n",
    "# Alternatively, create and download a service key in the BTP cockpit \n",
    "\n",
    "import json\n",
    "\n",
    "with open('key.json') as f:\n",
    "    btp_key = json.load(f).get('credentials')   # when using cf service-key\n",
    "    # btp_key = json.load(f)                    # when using a downloaded service key from BTP cockpit\n",
    "\n",
    "print(btp_key[\"serviceurls\"][\"AI_API_URL\"])"
   ]
  },
  {
   "cell_type": "code",
   "execution_count": 42,
   "metadata": {},
   "outputs": [],
   "source": [
    "# Load AI Core SDK\n",
    "from ai_core_sdk.ai_core_v2_client import AICoreV2Client\n",
    "\n",
    "# Create Connection using credentials from downloaded key.json\n",
    "ai_core_client = AICoreV2Client(\n",
    "    base_url = btp_key[\"serviceurls\"][\"AI_API_URL\"] + \"/v2\", # The present SAP AI Core API version is 2\n",
    "    auth_url=  btp_key[\"url\"] + \"/oauth/token\", # Suffix to add\n",
    "    client_id = btp_key[\"clientid\"],\n",
    "    client_secret = btp_key[\"clientsecret\"],\n",
    ")\n"
   ]
  },
  {
   "cell_type": "code",
   "execution_count": null,
   "metadata": {},
   "outputs": [],
   "source": [
    "# Query existing resource groups. It is expected that group \"default\" is present\n",
    "response = ai_core_client.resource_groups.query()\n",
    "\n",
    "for rg in response.resources:\n",
    "    print(rg.resource_group_id)"
   ]
  },
  {
   "cell_type": "code",
   "execution_count": null,
   "metadata": {},
   "outputs": [],
   "source": [
    "# Find available models and their corresponding exectuables\n",
    "# Alternatively, find this information in SAP Note 3437766 - https://me.sap.com/notes/3437766\n",
    "\n",
    "exc = ai_core_client.executable.query(resource_group=\"default\", scenario_id=\"foundation-models\")\n",
    "\n",
    "for e in exc.resources:\n",
    "    p = e.parameters\n",
    "    for i in p: \n",
    "        print (f\"Executable: {e.id} - {i.description}\")\n",
    "\n"
   ]
  },
  {
   "cell_type": "code",
   "execution_count": null,
   "metadata": {},
   "outputs": [],
   "source": [
    "# Create a new Configuration for OpenAI gpt-4o\n",
    "\n",
    "from ai_api_client_sdk.models.parameter_binding import ParameterBinding\n",
    "\n",
    "model_to_deploy = \"gpt-4o\"\n",
    "executable_id = \"azure-openai\"\n",
    "\n",
    "pb1 = ParameterBinding(key=\"modelName\", value=model_to_deploy)\n",
    "pb2 = ParameterBinding(key=\"modelVersion\", value=\"latest\")\n",
    "\n",
    "ai_core_client.configuration.create( name=model_to_deploy, executable_id=executable_id, scenario_id=\"foundation-models\",resource_group=\"default\", parameter_bindings=[pb1, pb2])"
   ]
  },
  {
   "cell_type": "code",
   "execution_count": null,
   "metadata": {},
   "outputs": [],
   "source": [
    "# Query existing Configurations\n",
    "confs = ai_core_client.configuration.query(scenario_id=\"foundation-models\", resource_group=\"default\")\n",
    "\n",
    "for resource in confs.resources:\n",
    "    print(f\"Configuration ID: {resource.id}, Executable ID: {resource.executable_id}, Name: {resource.name}, Param0: {resource.parameter_bindings[0].value}, Param1: {resource.parameter_bindings[1].value}\")\n"
   ]
  },
  {
   "cell_type": "code",
   "execution_count": 46,
   "metadata": {},
   "outputs": [
    {
     "data": {
      "text/plain": [
       "<ai_api_client_sdk.models.deployment_create_response.DeploymentCreateResponse at 0x10ddaded0>"
      ]
     },
     "execution_count": 46,
     "metadata": {},
     "output_type": "execute_result"
    }
   ],
   "source": [
    "# Attention: make sure to use the correct configuration id which corresponds to the model you want to deploy\n",
    "\n",
    "conf_id = \"4be0f740-3d39-4522-aa90-0cb2061c4e1d\"\n",
    "\n",
    "# Create a deployment for the configuration\n",
    "ai_core_client.deployment.create(configuration_id=conf_id, resource_group=\"default\")"
   ]
  },
  {
   "cell_type": "code",
   "execution_count": null,
   "metadata": {},
   "outputs": [],
   "source": [
    "# Optional: Find existing deployments for a configuration\n",
    "\n",
    "deps = ai_core_client.deployment.query(resource_group=\"default\", configuration_id=conf_id)\n",
    "\n",
    "print(deps)"
   ]
  },
  {
   "cell_type": "code",
   "execution_count": null,
   "metadata": {},
   "outputs": [],
   "source": [
    "# Optional: Get details of a deployment\n",
    "\n",
    "for dep in deps.resources:\n",
    "    print(dep.id)\n",
    "    dep_detail = ai_core_client.deployment.get(deployment_id=dep.id, resource_group=\"default\")\n",
    "    print(dep_detail.details['resources']['backend_details']['model']['name'])\n",
    "    print(dep_detail.details['resources']['backend_details']['model']['version'])\n"
   ]
  }
 ],
 "metadata": {
  "kernelspec": {
   "display_name": ".venv",
   "language": "python",
   "name": "python3"
  },
  "language_info": {
   "codemirror_mode": {
    "name": "ipython",
    "version": 3
   },
   "file_extension": ".py",
   "mimetype": "text/x-python",
   "name": "python",
   "nbconvert_exporter": "python",
   "pygments_lexer": "ipython3",
   "version": "3.12.8"
  }
 },
 "nbformat": 4,
 "nbformat_minor": 2
}
