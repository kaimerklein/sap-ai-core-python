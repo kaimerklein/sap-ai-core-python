{
 "cells": [
  {
   "cell_type": "code",
   "execution_count": null,
   "metadata": {},
   "outputs": [],
   "source": [
    "# Install the generative-ai-hub-sdk package\n",
    "\n",
    "%pip install generative-ai-hub-sdk\n"
   ]
  },
  {
   "cell_type": "code",
   "execution_count": 3,
   "metadata": {},
   "outputs": [],
   "source": [
    "# In your working directory, log on to BTP with cf logon\n",
    "# Download the credentials of your AICore instance with cf service-key <service-name> <key-name> > key.json\n",
    "# Remove the first line of the key.json file\n",
    "# Alternatively, create and download a service key in the BTP cockpit \n",
    "\n",
    "import json\n",
    "\n",
    "with open('key.json') as f:\n",
    "    btp_key = json.load(f).get('credentials')   # when using cf service-key\n",
    "    # btp_key = json.load(f)                    # when using a downloaded service key from BTP cockpit\n",
    "\n",
    "print(btp_key[\"serviceurls\"][\"AI_API_URL\"])\n",
    "\n",
    "# Set the environment variables\n",
    "import os\n",
    "\n",
    "os.environ[\"AICORE_CLIENT_ID\"] = btp_key[\"clientid\"]\n",
    "os.environ[\"AICORE_CLIENT_SECRET\"] = btp_key[\"clientsecret\"]\n",
    "os.environ[\"AICORE_AUTH_URL\"] = btp_key[\"url\"]\n",
    "os.environ[\"AICORE_BASE_URL\"] = btp_key[\"serviceurls\"][\"AI_API_URL\"]\n",
    "os.environ[\"AICORE_RESOURCE_GROUP\"] = \"default\""
   ]
  },
  {
   "cell_type": "code",
   "execution_count": null,
   "metadata": {},
   "outputs": [],
   "source": [
    "from gen_ai_hub.proxy.native.openai import chat\n",
    "\n",
    "messages = [{\"role\": \"system\", \"content\": \"You are a helpful assistant.\"},\n",
    "            {\"role\": \"user\", \"content\": \"What is cool about SAP BTP?\"}]\n",
    "\n",
    "kwargs = dict(model_name='gpt-4o', messages=messages)\n",
    "response = chat.completions.create(**kwargs)\n",
    "\n",
    "print(response.choices[0].message.content)"
   ]
  }
 ],
 "metadata": {
  "kernelspec": {
   "display_name": ".venv",
   "language": "python",
   "name": "python3"
  },
  "language_info": {
   "codemirror_mode": {
    "name": "ipython",
    "version": 3
   },
   "file_extension": ".py",
   "mimetype": "text/x-python",
   "name": "python",
   "nbconvert_exporter": "python",
   "pygments_lexer": "ipython3",
   "version": "3.11.11"
  }
 },
 "nbformat": 4,
 "nbformat_minor": 2
}
